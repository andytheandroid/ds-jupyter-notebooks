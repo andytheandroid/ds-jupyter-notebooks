{
 "cells": [
  {
   "cell_type": "markdown",
   "id": "a0bb6944-3b81-4c3a-9bb2-037fe1d59894",
   "metadata": {},
   "source": [
    "# Data Science Tools and Ecosystem\n"
   ]
  },
  {
   "cell_type": "markdown",
   "id": "9cc846ab-e783-422a-bd5e-3b4302ac749c",
   "metadata": {
    "tags": []
   },
   "source": [
    "In this notebook, Data Science Tools and Ecosystem are summarized.\n"
   ]
  },
  {
   "cell_type": "markdown",
   "id": "4bbea9a9-d4c0-47c0-995a-62a4484c1d20",
   "metadata": {},
   "source": [
    "__Objectives:__\n",
    "\n",
    "- List popular languages for data sciences\n",
    "- Getting familiar with jupyter notebook\n",
    "- Learn python\n",
    "- Understand the tools used in Data Science\n",
    "\n",
    "## Author:\n",
    "Carlos Torres Sanchez\n",
    "\n",
    "\n"
   ]
  },
  {
   "cell_type": "markdown",
   "id": "9317ee83-de1f-4494-9b9d-879a2fde12ee",
   "metadata": {},
   "source": [
    "Some of the popular languages that Data Scientists use are:\n",
    "\n",
    "1. Python\n",
    "2. Julia\n",
    "3. R"
   ]
  },
  {
   "cell_type": "markdown",
   "id": "505c851e-6c56-445b-834e-e767eb33564a",
   "metadata": {},
   "source": [
    "Some of the commonly used libraries used by Data Scientists include:\n",
    "\n",
    "1. NumPy\n",
    "2. SciKit\n",
    "3. Pandas\n"
   ]
  },
  {
   "cell_type": "markdown",
   "id": "40c72b16-5a4f-4706-98c2-87936e9b9e9d",
   "metadata": {},
   "source": [
    "| Data Science Tools | \n",
    "|:--------:|\n",
    "|   Hadoop |  \n",
    "|   Tableau  |  \n",
    "|   Anaconda   |  "
   ]
  },
  {
   "cell_type": "markdown",
   "id": "e71feb16-f701-42b3-9c9b-d23a1e0cd0e6",
   "metadata": {},
   "source": [
    "### Below are a few examples of evaluating arithmetic expressions in Python.\n",
    "\n"
   ]
  },
  {
   "cell_type": "code",
   "execution_count": 2,
   "id": "dc81dffc-00e2-446d-ba5c-c2678d3075e3",
   "metadata": {
    "tags": []
   },
   "outputs": [
    {
     "data": {
      "text/plain": [
       "17"
      ]
     },
     "execution_count": 2,
     "metadata": {},
     "output_type": "execute_result"
    }
   ],
   "source": [
    "#This is a simple arithmetic expression to multiply and then add integers\n",
    "\n",
    "(3*4)+5"
   ]
  },
  {
   "cell_type": "code",
   "execution_count": 3,
   "id": "b83e0a76-af7d-4e65-a2d0-e62aa6336696",
   "metadata": {
    "tags": []
   },
   "outputs": [
    {
     "name": "stdout",
     "output_type": "stream",
     "text": [
      "3.3333333333333335\n"
     ]
    }
   ],
   "source": [
    "# this will convert 200 minutes to hours by dividing by 60.\n",
    "\n",
    "hours = 200 / 60\n",
    "print(hours)"
   ]
  },
  {
   "cell_type": "code",
   "execution_count": null,
   "id": "251f0f03-67b7-43af-8785-6687425a2a15",
   "metadata": {},
   "outputs": [],
   "source": []
  }
 ],
 "metadata": {
  "kernelspec": {
   "display_name": "Python",
   "language": "python",
   "name": "conda-env-python-py"
  },
  "language_info": {
   "codemirror_mode": {
    "name": "ipython",
    "version": 3
   },
   "file_extension": ".py",
   "mimetype": "text/x-python",
   "name": "python",
   "nbconvert_exporter": "python",
   "pygments_lexer": "ipython3",
   "version": "3.7.12"
  }
 },
 "nbformat": 4,
 "nbformat_minor": 5
}
